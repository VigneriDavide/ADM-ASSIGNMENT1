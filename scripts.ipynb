{
 "cells": [
  {
   "cell_type": "markdown",
   "metadata": {
    "tags": []
   },
   "source": [
    "# **PROBLEM 1**"
   ]
  },
  {
   "cell_type": "markdown",
   "metadata": {},
   "source": [
    "## INTRODUCTION"
   ]
  },
  {
   "cell_type": "markdown",
   "metadata": {},
   "source": [
    "### 1-Say \"Hello, World!\" With Python "
   ]
  },
  {
   "cell_type": "code",
   "execution_count": null,
   "metadata": {},
   "outputs": [],
   "source": [
    "if __name__ == '__main__':\n",
    "    print(\"Hello, World!\")"
   ]
  },
  {
   "cell_type": "markdown",
   "metadata": {},
   "source": [
    "### 2-Python if-Else"
   ]
  },
  {
   "cell_type": "code",
   "execution_count": null,
   "metadata": {},
   "outputs": [],
   "source": [
    "if __name__ == '__main__':\n",
    "    n = int(input().strip())\n",
    "    if n%2 != 0:\n",
    "        print(\"Weird\")\n",
    "    else:\n",
    "        if n>=2 and n<=5:\n",
    "            print(\"Not Weird\")\n",
    "        elif n>=6 and n<=20:\n",
    "            print(\"Weird\")\n",
    "        else:\n",
    "            print(\"Not Weird\")"
   ]
  },
  {
   "cell_type": "markdown",
   "metadata": {},
   "source": [
    "### 3-Arithmetic Operators "
   ]
  },
  {
   "cell_type": "code",
   "execution_count": null,
   "metadata": {},
   "outputs": [],
   "source": [
    "if __name__ == '__main__':\n",
    "    a = int(input())\n",
    "    b = int(input())\n",
    "    Sum = a+b\n",
    "    Dif = a-b\n",
    "    Prod = a*b\n",
    "    print(f\"{Sum} \\n{Dif} \\n{Prod}\")"
   ]
  },
  {
   "cell_type": "markdown",
   "metadata": {},
   "source": [
    "### 4-Python: Division"
   ]
  },
  {
   "cell_type": "code",
   "execution_count": null,
   "metadata": {},
   "outputs": [],
   "source": [
    "if __name__ == '__main__':\n",
    "    a = int(input())\n",
    "    b = int(input())\n",
    "    idiv = a//b\n",
    "    fdiv = a/b\n",
    "    print(f\"{idiv}\\n{fdiv}\")"
   ]
  },
  {
   "cell_type": "markdown",
   "metadata": {},
   "source": [
    "### 5-Write a function"
   ]
  },
  {
   "cell_type": "code",
   "execution_count": null,
   "metadata": {},
   "outputs": [],
   "source": [
    "if __name__ == '__main__':\n",
    "    a = int(input())\n",
    "    b = int(input())\n",
    "    idiv = a//b\n",
    "    fdiv = a/b\n",
    "    print(f\"{idiv}\\n{fdiv}\")"
   ]
  },
  {
   "cell_type": "markdown",
   "metadata": {},
   "source": [
    "### 6-Print a Function "
   ]
  },
  {
   "cell_type": "code",
   "execution_count": null,
   "metadata": {},
   "outputs": [],
   "source": [
    "if __name__ == '__main__':\n",
    "    a = int(input())\n",
    "    b = int(input())\n",
    "    idiv = a//b\n",
    "    fdiv = a/b\n",
    "    print(f\"{idiv}\\n{fdiv}\")"
   ]
  },
  {
   "cell_type": "markdown",
   "metadata": {},
   "source": [
    "## DATA TYPES"
   ]
  },
  {
   "cell_type": "markdown",
   "metadata": {},
   "source": [
    "### 1-List Comprehension"
   ]
  },
  {
   "cell_type": "code",
   "execution_count": null,
   "metadata": {},
   "outputs": [],
   "source": [
    "if __name__ == '__main__':\n",
    "    x = int(input())\n",
    "    y = int(input())\n",
    "    z = int(input())\n",
    "    n = int(input())\n",
    "    list1 =[[i, j, k] for i in range(x+1) for j in range(y+1) for k in range(z+1) if (i+j+k)!= n]\n",
    "    print(list1)"
   ]
  },
  {
   "cell_type": "markdown",
   "metadata": {},
   "source": [
    "### 2-Find the Runner-up Score!"
   ]
  },
  {
   "cell_type": "code",
   "execution_count": null,
   "metadata": {},
   "outputs": [],
   "source": [
    "if __name__ == '__main__':\n",
    "    n = int(input())\n",
    "    arr = map(int, input().split())\n",
    "    set1= set(arr)\n",
    "    set2=sorted(set1)\n",
    "    print(set2[-2])"
   ]
  },
  {
   "cell_type": "markdown",
   "metadata": {},
   "source": [
    "### 3-Nested Lists"
   ]
  },
  {
   "cell_type": "code",
   "execution_count": null,
   "metadata": {},
   "outputs": [],
   "source": [
    "if __name__ == '__main__':\n",
    "    records=[]\n",
    "    scores=[]\n",
    "    for _ in range(int(input())):\n",
    "        name = input()\n",
    "        score = float(input())\n",
    "        records.append([name,score])\n",
    "        scores.append(score)    \n",
    "    ordered_single_sores = sorted(list(set(scores)))\n",
    "    names=[]\n",
    "    for n in records:\n",
    "        if n[1] == ordered_single_sores[1]:    \n",
    "            names.append(n[0])\n",
    "    for i in sorted(names):\n",
    "        print(i) "
   ]
  },
  {
   "cell_type": "markdown",
   "metadata": {},
   "source": [
    "### 4-Finding the percentage"
   ]
  },
  {
   "cell_type": "code",
   "execution_count": null,
   "metadata": {},
   "outputs": [],
   "source": [
    "if __name__ == '__main__':\n",
    "    n = int(input())\n",
    "    student_marks = {}\n",
    "    for _ in range(n):\n",
    "        name, *line = input().split()\n",
    "        scores = list(map(float, line))\n",
    "        student_marks[name] = scores\n",
    "    query_name = input()\n",
    "    mean=(student_marks[query_name][0]+student_marks[query_name][1]+student_marks[query_name][2])/3\n",
    "    print(format(mean, '.2f'))"
   ]
  },
  {
   "cell_type": "markdown",
   "metadata": {},
   "source": [
    "### 5-Lists"
   ]
  },
  {
   "cell_type": "code",
   "execution_count": null,
   "metadata": {},
   "outputs": [],
   "source": [
    "if __name__ == '__main__':\n",
    "    N = int(input())\n",
    "    list1=[]\n",
    "    for x in range(N):\n",
    "        command = input().split()\n",
    "        if command[0] == 'print':\n",
    "            print(list1)\n",
    "        elif command[0] == 'insert':\n",
    "            list1.insert(int(command[1]),int(command[2]))\n",
    "        elif command[0] == 'remove':\n",
    "            list1.remove(int(command[1]))\n",
    "        elif command[0] == 'append':\n",
    "            list1.append(int(command[1]))\n",
    "        elif command[0] == 'sort':\n",
    "            list1.sort()\n",
    "        elif command[0] == 'pop':\n",
    "            list1.pop()\n",
    "        elif command[0] == 'reverse':\n",
    "            list1.reverse()\n",
    "        else:\n",
    "            break"
   ]
  },
  {
   "cell_type": "markdown",
   "metadata": {},
   "source": [
    "### 6-Tuples"
   ]
  },
  {
   "cell_type": "code",
   "execution_count": null,
   "metadata": {},
   "outputs": [],
   "source": [
    "if __name__ == '__main__':\n",
    "    n = int(input())\n",
    "    integer_list = map(int, input().split())\n",
    "    print(hash(tuple(integer_list)))"
   ]
  },
  {
   "cell_type": "markdown",
   "metadata": {},
   "source": [
    "## STRINGS"
   ]
  },
  {
   "cell_type": "markdown",
   "metadata": {},
   "source": [
    "### 1-sWAP cASE"
   ]
  },
  {
   "cell_type": "code",
   "execution_count": null,
   "metadata": {},
   "outputs": [],
   "source": [
    "def swap_case(s):\n",
    "    string =[]\n",
    "    for i in s:\n",
    "        if i.islower():\n",
    "            string.append(i.upper())\n",
    "        else:\n",
    "            string.append(i.lower())\n",
    "    swap=\"\".join(string)\n",
    "    return swap"
   ]
  },
  {
   "cell_type": "markdown",
   "metadata": {},
   "source": [
    "### 2-String Split and Join"
   ]
  },
  {
   "cell_type": "code",
   "execution_count": null,
   "metadata": {},
   "outputs": [],
   "source": [
    "def split_and_join(line):\n",
    "    # write your code here\n",
    "    a = line.split(\" \")\n",
    "    b = \"-\".join(a)\n",
    "    return b\n",
    "if __name__ == '__main__':\n",
    "    line = input()\n",
    "    result = split_and_join(line)\n",
    "    print(result)"
   ]
  },
  {
   "cell_type": "markdown",
   "metadata": {},
   "source": [
    "### 3-What's Your Name?"
   ]
  },
  {
   "cell_type": "code",
   "execution_count": null,
   "metadata": {},
   "outputs": [],
   "source": [
    "def print_full_name(first, last):\n",
    "    # Write your code here\n",
    "    a = print(f\"Hello {first} {last}! You just delved into python.\")\n",
    "    return a"
   ]
  },
  {
   "cell_type": "markdown",
   "metadata": {},
   "source": [
    "### 4-Mutations "
   ]
  },
  {
   "cell_type": "code",
   "execution_count": null,
   "metadata": {},
   "outputs": [],
   "source": [
    "def mutate_string(string, position, character):\n",
    "    new_string = string[:position] + character + string[position+1:]\n",
    "    return new_string"
   ]
  },
  {
   "cell_type": "markdown",
   "metadata": {},
   "source": [
    "### 5-Find a string"
   ]
  },
  {
   "cell_type": "code",
   "execution_count": null,
   "metadata": {},
   "outputs": [],
   "source": [
    "def count_substring(string, sub_string):\n",
    "    count = 0\n",
    "    for i in range(len(string)):\n",
    "        key = string[i:len(sub_string)+i]\n",
    "        if sub_string==key:\n",
    "            count +=1\n",
    "    return count"
   ]
  },
  {
   "cell_type": "markdown",
   "metadata": {},
   "source": [
    "### 6-String Validators"
   ]
  },
  {
   "cell_type": "code",
   "execution_count": null,
   "metadata": {},
   "outputs": [],
   "source": [
    "if __name__ == '__main__':\n",
    "    s = input()\n",
    "    a_alnum = any([char.isalnum() for char in s])\n",
    "    a_alpha = any([char.isalpha() for char in s])\n",
    "    a_isdigit = any([char.isdigit() for char in s])\n",
    "    a_islower = any([char.islower() for char in s])\n",
    "    a_isupper = any([char.isupper() for char in s])\n",
    "    print(f\"{a_alnum} \\n{a_alpha} \\n{a_isdigit} \\n{a_islower} \\n{a_isupper}\")"
   ]
  },
  {
   "cell_type": "markdown",
   "metadata": {},
   "source": [
    "### 7-Text Allignment"
   ]
  },
  {
   "cell_type": "code",
   "execution_count": null,
   "metadata": {},
   "outputs": [],
   "source": [
    "#Replace all ______ with rjust, ljust or center. \n",
    "\n",
    "thickness = int(input()) #This must be an odd number\n",
    "c = 'H'\n",
    "\n",
    "#Top Cone\n",
    "for i in range(thickness):\n",
    "    print((c*i).rjust(thickness-1)+c+(c*i).ljust(thickness-1))\n",
    "\n",
    "#Top Pillars\n",
    "for i in range(thickness+1):\n",
    "    print((c*thickness).center(thickness*2)+(c*thickness).center(thickness*6))\n",
    "\n",
    "#Middle Belt\n",
    "for i in range((thickness+1)//2):\n",
    "    print((c*thickness*5).center(thickness*6))    \n",
    "\n",
    "#Bottom Pillars\n",
    "for i in range(thickness+1):\n",
    "    print((c*thickness).center(thickness*2)+(c*thickness).center(thickness*6))    \n",
    "\n",
    "#Bottom Cone\n",
    "for i in range(thickness):\n",
    "    print(((c*(thickness-i-1)).rjust(thickness)+c+(c*(thickness-i-1)).ljust(thickness)).rjust(thickness*6))"
   ]
  },
  {
   "cell_type": "markdown",
   "metadata": {},
   "source": [
    "### 8-Text Wrap"
   ]
  },
  {
   "cell_type": "code",
   "execution_count": null,
   "metadata": {},
   "outputs": [],
   "source": [
    "def wrap(string, max_width):\n",
    "    list1=[]\n",
    "    for i in range(0, len(string), max_width):\n",
    "        list1.append(string[i:i+max_width])\n",
    "    sep = '\\n'\n",
    "    result= sep.join(list1)\n",
    "    return result"
   ]
  },
  {
   "cell_type": "markdown",
   "metadata": {},
   "source": [
    "### 9-Designer Door Mat"
   ]
  },
  {
   "cell_type": "code",
   "execution_count": null,
   "metadata": {},
   "outputs": [],
   "source": [
    "parameters = input().split(' ')\n",
    "N = int(parameters[0])\n",
    "M = int(parameters[1])\n",
    "symb = '.|.'\n",
    "dash = '-'\n",
    "wel = 'WELCOME'\n",
    "n = int((N-1)/2)\n",
    "for i in range(n):\n",
    "    dashes = int((M - 3*(2*i+1))/2)\n",
    "    symbs = 2*i+1\n",
    "    print(dash*dashes + symb*symbs + dash*dashes)\n",
    "dashes = int((M-7)/2)\n",
    "print(dash*dashes + wel + dash*dashes)\n",
    "for i in range(n,0,-1):\n",
    "    dashes = int((M - 3*(2*(i-1)+1))/2)\n",
    "    symbs = 2*(i-1)+1\n",
    "    print(dash*dashes + symb*symbs + dash*dashes)"
   ]
  },
  {
   "cell_type": "markdown",
   "metadata": {},
   "source": [
    "### 10-String Formatting"
   ]
  },
  {
   "cell_type": "code",
   "execution_count": null,
   "metadata": {},
   "outputs": [],
   "source": [
    "def print_formatted(number):\n",
    "    # your code goes here\n",
    "    \n",
    "    list1 = []\n",
    "    for i in range(1, n+1):\n",
    "        list1.append(str(i))\n",
    "        list1.append(str(oct(i)[2:]))\n",
    "        list1.append(str(hex(i)[2:]))\n",
    "        list1.append(str(bin(i)[2:]))\n",
    "    k = len(list1[-1])\n",
    "    for i in range(1, n+1):\n",
    "        print(str(i).rjust(k, ' '), str(oct(i)[2:]).rjust(k, ' '), str(hex(i)[2:]).upper().rjust(k, ' '), str(bin(i)[2:]).rjust(k, ' '))"
   ]
  },
  {
   "cell_type": "markdown",
   "metadata": {},
   "source": [
    "### 11-Alphabet Rangoli"
   ]
  },
  {
   "cell_type": "code",
   "execution_count": null,
   "metadata": {},
   "outputs": [],
   "source": [
    "from string import ascii_lowercase as alpha\n",
    "def print_rangoli(size):\n",
    "    # your code goes here\n",
    "    for i in range(1,2*size):\n",
    "        k = alpha[abs(size-i):size]\n",
    "        k = k[-1:0:-1] + k\n",
    "        print( '-'.join(k).center(4*size-3,'-'))"
   ]
  },
  {
   "cell_type": "markdown",
   "metadata": {},
   "source": [
    "### 12-Capitalize!"
   ]
  },
  {
   "cell_type": "code",
   "execution_count": null,
   "metadata": {},
   "outputs": [],
   "source": [
    "def solve(s):\n",
    "    list1 = s.split(' ')\n",
    "    list2 =[]\n",
    "    for i in range(len(list1)):\n",
    "        list2.append(list1[i].capitalize())\n",
    "    result = ' '.join(list2)\n",
    "    return result"
   ]
  },
  {
   "cell_type": "markdown",
   "metadata": {},
   "source": [
    "### 13-The Minion Game"
   ]
  },
  {
   "cell_type": "code",
   "execution_count": null,
   "metadata": {},
   "outputs": [],
   "source": [
    "def minion_game(string):\n",
    "    # your code goes here\n",
    "    vocals = 'AEIOU'\n",
    "    consonants = 'ZYXWVQTFSRPNMLKHJGDCB'\n",
    "    stuart_points = 0\n",
    "    kevin_points = 0\n",
    "    \n",
    "    for i in range(len(string)):\n",
    "        if string[i] in consonants:\n",
    "            stuart_points+=len(string[i:])\n",
    "        else:\n",
    "            kevin_points+=len(string[i:]) \n",
    "                \n",
    "    if  stuart_points > kevin_points:\n",
    "        print(f'Stuart {stuart_points}')\n",
    "    elif kevin_points > stuart_points:\n",
    "        print(f'Kevin {kevin_points}')\n",
    "    else:\n",
    "        print('Draw')\n",
    "    return "
   ]
  },
  {
   "cell_type": "markdown",
   "metadata": {},
   "source": [
    "### 14-Merge Tools!"
   ]
  },
  {
   "cell_type": "code",
   "execution_count": null,
   "metadata": {},
   "outputs": [],
   "source": [
    "def merge_the_tools(string, k):\n",
    "    # your code goes here\n",
    "    # q is n of sublets of lenght k\n",
    "    q = len(string)//k\n",
    "    # extract ti with split\n",
    "    list1 = []\n",
    "    for i in range(0, q*k, k):\n",
    "        x = string[i:i+k]\n",
    "        list1.append(x)\n",
    "    for ele in list1:\n",
    "        temp = []\n",
    "        for i in ele:\n",
    "            if i not in temp:\n",
    "                temp.append(i)\n",
    "        print(''.join(temp))"
   ]
  },
  {
   "cell_type": "markdown",
   "metadata": {},
   "source": [
    "## SETS"
   ]
  },
  {
   "cell_type": "markdown",
   "metadata": {},
   "source": [
    "### 1-Introduction to Sets"
   ]
  },
  {
   "cell_type": "code",
   "execution_count": null,
   "metadata": {},
   "outputs": [],
   "source": [
    "def average(array):\n",
    "    # your code goes here\n",
    "    sum1 = 0\n",
    "    list1 = []\n",
    "    for i in array:\n",
    "        if i not in list1:\n",
    "            list1.append(i)\n",
    "            sum1 +=i\n",
    "    return format(sum1/len(list1), '.3f')"
   ]
  },
  {
   "cell_type": "markdown",
   "metadata": {},
   "source": [
    "### 2-No Idea!"
   ]
  },
  {
   "cell_type": "code",
   "execution_count": null,
   "metadata": {},
   "outputs": [],
   "source": [
    "nm = map(int,input().split())\n",
    "arr = map(int,input().split())\n",
    "A = set(map(int, input().split()))\n",
    "B = set(map(int, input().split()))\n",
    "happiness = 0\n",
    "for i in arr:\n",
    "    if i in A and i not in B:\n",
    "        happiness += 1\n",
    "    elif i in B and i not in A:\n",
    "        happiness -= 1\n",
    "    else:\n",
    "        pass\n",
    "print(happiness)"
   ]
  },
  {
   "cell_type": "markdown",
   "metadata": {},
   "source": [
    "### 3-Symmetric Difference"
   ]
  },
  {
   "cell_type": "code",
   "execution_count": null,
   "metadata": {},
   "outputs": [],
   "source": [
    "#input\n",
    "M = int(input())\n",
    "a = set(map(int, input().split()))\n",
    "N = int(input())\n",
    "b = set(map(int, input().split()))\n",
    "\n",
    "a_diff_b = a.difference(b)\n",
    "b_diff_a = b.difference(a)\n",
    "sym_diff = sorted(a_diff_b.union(b_diff_a))\n",
    "for i in sym_diff:\n",
    "    print(i)"
   ]
  },
  {
   "cell_type": "markdown",
   "metadata": {},
   "source": [
    "### 4-Set.add()"
   ]
  },
  {
   "cell_type": "code",
   "execution_count": null,
   "metadata": {},
   "outputs": [],
   "source": [
    "set1 = set()\n",
    "list1 = []\n",
    "N = int(input())\n",
    "for x in range (N):\n",
    "    c = input()\n",
    "    if c not in set1:\n",
    "        set1.add(c)\n",
    "print (len(set1))"
   ]
  },
  {
   "cell_type": "markdown",
   "metadata": {},
   "source": [
    "### 5-Set.discard(),.remove() &.pop()"
   ]
  },
  {
   "cell_type": "code",
   "execution_count": null,
   "metadata": {},
   "outputs": [],
   "source": [
    "n = int(input())\n",
    "set1 = set(map(int, input().split()))\n",
    "N = int(input())\n",
    "for x in range(N):\n",
    "    op = input().split()\n",
    "    if op[0] == 'pop':\n",
    "        set1.pop()\n",
    "    elif op[0] == 'remove':\n",
    "        set1.remove(int(op[1]))\n",
    "    elif op[0] == 'discard':\n",
    "        set1.discard(int(op[1]))\n",
    "    else:\n",
    "        none\n",
    "print(str(sum(set1)))"
   ]
  },
  {
   "cell_type": "markdown",
   "metadata": {},
   "source": [
    "### 6-Set.union() Operation"
   ]
  },
  {
   "cell_type": "code",
   "execution_count": null,
   "metadata": {},
   "outputs": [],
   "source": [
    "e = int(input())\n",
    "E = set(map(int, input().split()))\n",
    "f = int(input())\n",
    "F = set(map(int, input().split()))\n",
    "Union = E.union(F)\n",
    "print(len(Union))"
   ]
  },
  {
   "cell_type": "markdown",
   "metadata": {},
   "source": [
    "### 7-Set.intersection() Operation"
   ]
  },
  {
   "cell_type": "code",
   "execution_count": null,
   "metadata": {},
   "outputs": [],
   "source": [
    "e = int(input())\n",
    "E = set(map(int, input().split()))\n",
    "f = int(input())\n",
    "F = set(map(int,input().split()))\n",
    "Inter = E.intersection(F)\n",
    "print(len(Inter))"
   ]
  },
  {
   "cell_type": "markdown",
   "metadata": {},
   "source": [
    "### 8-Set.difference() Operation"
   ]
  },
  {
   "cell_type": "code",
   "execution_count": null,
   "metadata": {},
   "outputs": [],
   "source": [
    "e = int(input())\n",
    "E = set(map(int, input().split()))\n",
    "f = int(input())\n",
    "F = set(map(int, input().split()))\n",
    "Diff = E.difference(F)\n",
    "print(len(Diff))"
   ]
  },
  {
   "cell_type": "markdown",
   "metadata": {},
   "source": [
    "### 9-Set.symmetric_diffrence() Operation"
   ]
  },
  {
   "cell_type": "code",
   "execution_count": null,
   "metadata": {},
   "outputs": [],
   "source": [
    "e = int(input())\n",
    "E = set(map(int, input().split()))\n",
    "f = int(input())\n",
    "F = set(map(int, input().split()))\n",
    "Sym_Diff = E.symmetric_difference(F)\n",
    "print(len(Sym_Diff))"
   ]
  },
  {
   "cell_type": "markdown",
   "metadata": {},
   "source": [
    "### 10-Set Mutations"
   ]
  },
  {
   "cell_type": "code",
   "execution_count": null,
   "metadata": {},
   "outputs": [],
   "source": [
    "# Enter your code here. Read input from STDIN. Print output to STDOUT\n",
    "a = int(input())\n",
    "A = set(map(int, input().split()))\n",
    "N = int(input())\n",
    "for i in range(N):\n",
    "    command = input().split()\n",
    "    op = command[0]\n",
    "    B = set(map(int, input().split()))\n",
    "    if op =='intersection_update':\n",
    "        A &= B\n",
    "    elif op =='update':\n",
    "        A |= B\n",
    "    elif op == 'difference_update':\n",
    "        A -= B\n",
    "    elif op == 'symmetric_difference_update':\n",
    "        A ^= B\n",
    "    else: \n",
    "        pass\n",
    "print(sum(A))"
   ]
  },
  {
   "cell_type": "markdown",
   "metadata": {},
   "source": [
    "### 11-The Captain's Room"
   ]
  },
  {
   "cell_type": "code",
   "execution_count": null,
   "metadata": {},
   "outputs": [],
   "source": [
    "K = int(input())\n",
    "guests = list(map(int, input().split()))\n",
    "rooms = set(guests)\n",
    "for i in rooms:\n",
    "    count = 0\n",
    "    for j in guests:\n",
    "        if i==j:\n",
    "            count +=1\n",
    "            \n",
    "        if count > 1:\n",
    "            break\n",
    "    if count==1:\n",
    "        print(i) "
   ]
  },
  {
   "cell_type": "markdown",
   "metadata": {},
   "source": [
    "### 12-Check Subset"
   ]
  },
  {
   "cell_type": "code",
   "execution_count": null,
   "metadata": {},
   "outputs": [],
   "source": [
    "\n",
    "T = int(input())\n",
    "for test in range(T):\n",
    "    a = int(input())\n",
    "    A = set(map(int, input().split()))\n",
    "    b = int(input())\n",
    "    B = set(map(int, input().split()))\n",
    "    if A&B == A and A|B == B:\n",
    "        print(True)\n",
    "    else:\n",
    "        print(False)"
   ]
  },
  {
   "cell_type": "markdown",
   "metadata": {},
   "source": [
    "### 13-Check Strict Superset"
   ]
  },
  {
   "cell_type": "code",
   "execution_count": null,
   "metadata": {},
   "outputs": [],
   "source": [
    "A = set(map(int, input().split()))\n",
    "k = len(A)\n",
    "for i in range(int(input())):\n",
    "    I = set(map(int, input().split()))\n",
    "    A.update(I)\n",
    "if k == len(A):\n",
    "    print(True)\n",
    "else:\n",
    "    print(False)"
   ]
  },
  {
   "cell_type": "markdown",
   "metadata": {},
   "source": [
    "## COLLECTIONS"
   ]
  },
  {
   "cell_type": "markdown",
   "metadata": {},
   "source": [
    "### 1-collection.Counter()"
   ]
  },
  {
   "cell_type": "code",
   "execution_count": null,
   "metadata": {},
   "outputs": [],
   "source": [
    "from collections import Counter\n",
    "X = int(input())\n",
    "sizes = list(map(int, input().split()))\n",
    "N = int(input())\n",
    "income = 0\n",
    "for i in range(N):\n",
    "    size_price = list(map(int, input().split()))\n",
    "    if size_price[0] in sizes:\n",
    "        income += size_price[1]\n",
    "        sizes.remove(size_price[0])\n",
    "    else:\n",
    "        pass\n",
    "print(income)"
   ]
  },
  {
   "cell_type": "markdown",
   "metadata": {},
   "source": [
    "### 2-DefaultDict Tutorial"
   ]
  },
  {
   "cell_type": "code",
   "execution_count": null,
   "metadata": {},
   "outputs": [],
   "source": [
    "from collections import defaultdict\n",
    "n_m = list(map(int, input().split()))\n",
    "A = defaultdict()\n",
    "B = []\n",
    "\n",
    "for i in range(n_m[0]):\n",
    "    A[i+1] = input()\n",
    "    \n",
    "for i in range(n_m[1]):\n",
    "    B.append(input())\n",
    "    \n",
    "list1=[] \n",
    "for i in B:\n",
    "    if i not in A.values():\n",
    "        print(-1)\n",
    "    else:\n",
    "        list1 = list(map(str,[j for j in A if A[j] == i]))\n",
    "        print(' '.join(list1))"
   ]
  },
  {
   "cell_type": "markdown",
   "metadata": {},
   "source": [
    "### 3-Collections.namedtuple()"
   ]
  },
  {
   "cell_type": "code",
   "execution_count": null,
   "metadata": {},
   "outputs": [],
   "source": [
    "from collections import namedtuple\n",
    "N = int(input())\n",
    "student = namedtuple('Student', input().split())\n",
    "studentlist = [student(*input().split()) for i in range(N)]\n",
    "average = sum([int(studentlist[i].MARKS) for i in range(N)])/N\n",
    "print(format(average, '.2f'))"
   ]
  },
  {
   "cell_type": "markdown",
   "metadata": {},
   "source": [
    "### 4-Collection.OrderedDict()"
   ]
  },
  {
   "cell_type": "code",
   "execution_count": null,
   "metadata": {},
   "outputs": [],
   "source": [
    "from collections import OrderedDict\n",
    "N = int(input())\n",
    "dict1 = OrderedDict()\n",
    "for i in range(N):\n",
    "    entry = input().split()\n",
    "    price = int(entry[-1])\n",
    "    key = ' '.join(entry[:-1])\n",
    "    if key in dict1:\n",
    "        dict1[key] += price\n",
    "    else:\n",
    "        dict1[key] = price\n",
    "for i, j in dict1.items():\n",
    "    print(i, j)"
   ]
  },
  {
   "cell_type": "markdown",
   "metadata": {},
   "source": [
    "### 5-Word Order"
   ]
  },
  {
   "cell_type": "code",
   "execution_count": null,
   "metadata": {},
   "outputs": [],
   "source": [
    "from collections import OrderedDict\n",
    "n = int(input())\n",
    "dict1 = OrderedDict()\n",
    "for i in range(n):\n",
    "    a = input()\n",
    "    if a not in dict1.keys():\n",
    "      dict1[a] = int(1) \n",
    "    else:\n",
    "      dict1[a] += int(1)   \n",
    "print(len(dict1.keys()))\n",
    "a = map(str, list(dict1.values()))\n",
    "print(' '.join(a))"
   ]
  },
  {
   "cell_type": "markdown",
   "metadata": {},
   "source": [
    "### 6-Collections.deque()"
   ]
  },
  {
   "cell_type": "code",
   "execution_count": null,
   "metadata": {},
   "outputs": [],
   "source": [
    "from collections import deque\n",
    "N = int(input())\n",
    "d = deque()\n",
    "for i in range(N):\n",
    "    command = input().split()\n",
    "    if command[0] == 'append':\n",
    "        d.append(command[1])\n",
    "    elif command[0] == 'appendleft':\n",
    "        d.appendleft(command[1])\n",
    "    elif command[0] == 'pop':\n",
    "        d.pop()\n",
    "    elif command[0] == 'popleft':\n",
    "        d.popleft()"
   ]
  },
  {
   "cell_type": "markdown",
   "metadata": {},
   "source": [
    "### 7-Company Logo"
   ]
  },
  {
   "cell_type": "code",
   "execution_count": null,
   "metadata": {},
   "outputs": [],
   "source": [
    "import math\n",
    "import os\n",
    "import random\n",
    "import re\n",
    "import sys\n",
    "\n",
    "\n",
    "from collections import OrderedDict\n",
    "if __name__ == '__main__':\n",
    "    s = sorted(input())\n",
    "    dic = OrderedDict()\n",
    "    for i in s:\n",
    "        if i not in dic:\n",
    "            dic[i] = 1\n",
    "        else:\n",
    "            dic[i] += 1\n",
    "    new_dic = {k: v for k, v in sorted(dic.items(), key=lambda item: item[1], reverse=True)}\n",
    "    for i in range(3):\n",
    "        print(list(new_dic.keys())[i] + ' ' + list(map(str, new_dic.values()))[i])"
   ]
  },
  {
   "cell_type": "markdown",
   "metadata": {},
   "source": [
    "### 8-Piling Up!"
   ]
  },
  {
   "cell_type": "code",
   "execution_count": null,
   "metadata": {},
   "outputs": [],
   "source": [
    "import math\n",
    "import os\n",
    "import random\n",
    "import re\n",
    "import sys\n",
    "\n",
    "\n",
    "from collections import OrderedDict\n",
    "if __name__ == '__main__':\n",
    "    s = sorted(input())\n",
    "    dic = OrderedDict()\n",
    "    for i in s:\n",
    "        if i not in dic:\n",
    "            dic[i] = 1\n",
    "        else:\n",
    "            dic[i] += 1\n",
    "    new_dic = {k: v for k, v in sorted(dic.items(), key=lambda item: item[1], reverse=True)}\n",
    "    for i in range(3):\n",
    "        print(list(new_dic.keys())[i] + ' ' + list(map(str, new_dic.values()))[i])"
   ]
  },
  {
   "cell_type": "markdown",
   "metadata": {},
   "source": [
    "## DATE AND TIME "
   ]
  },
  {
   "cell_type": "markdown",
   "metadata": {},
   "source": [
    "### 1-Calendar Module"
   ]
  },
  {
   "cell_type": "code",
   "execution_count": null,
   "metadata": {},
   "outputs": [],
   "source": [
    "import calendar as cal\n",
    "m,d,y=map(int,input().split())\n",
    "day=cal.weekday(day=d, month=m, year=y )\n",
    "print(cal.day_name[day].upper())"
   ]
  },
  {
   "cell_type": "markdown",
   "metadata": {},
   "source": [
    "### 2-Time Delta"
   ]
  },
  {
   "cell_type": "code",
   "execution_count": null,
   "metadata": {},
   "outputs": [],
   "source": [
    "import math\n",
    "import os\n",
    "import random\n",
    "import re\n",
    "import sys\n",
    "from datetime import datetime as dt\n",
    "# Complete the time_delta function below.\n",
    "def time_delta(t1, t2):\n",
    "    f ='%a %d %b %Y %H:%M:%S %z'\n",
    "    dt1 = dt.strptime(t1, f)\n",
    "    dt2 = dt.strptime(t2, f)\n",
    "    delta = round(abs(dt1-dt2).total_seconds())\n",
    "    return str(delta)\n",
    "\n",
    "    \n",
    "   \n",
    "\n",
    "if __name__ == '__main__':\n",
    "    fptr = open(os.environ['OUTPUT_PATH'], 'w')\n",
    "\n",
    "    t = int(input())\n",
    "\n",
    "    for t_itr in range(t):\n",
    "        t1 = input()\n",
    "\n",
    "        t2 = input()\n",
    "\n",
    "        delta = time_delta(t1, t2)\n",
    "\n",
    "        fptr.write(delta + '\\n')\n",
    "\n",
    "    fptr.close()"
   ]
  },
  {
   "cell_type": "markdown",
   "metadata": {},
   "source": [
    "## EXCEPTIONS"
   ]
  },
  {
   "cell_type": "markdown",
   "metadata": {},
   "source": [
    "### 1-Exceptions"
   ]
  },
  {
   "cell_type": "code",
   "execution_count": null,
   "metadata": {},
   "outputs": [],
   "source": [
    "T = int(input())\n",
    "for i in range(T):\n",
    "    a_b = input().split()\n",
    "    try:\n",
    "        print(int(a_b[0])//int(a_b[1]))\n",
    "    except ZeroDivisionError as e:\n",
    "        print (\"Error Code:\", e)\n",
    "    except ValueError as v:\n",
    "        print (\"Error Code:\", v)"
   ]
  },
  {
   "cell_type": "markdown",
   "metadata": {},
   "source": [
    "## BUILT-INS"
   ]
  },
  {
   "cell_type": "markdown",
   "metadata": {},
   "source": [
    "### 1-Zipped"
   ]
  },
  {
   "cell_type": "code",
   "execution_count": null,
   "metadata": {},
   "outputs": [],
   "source": [
    "n_x = list(map(int, input().split()))\n",
    "N = n_x[0] #number of subjects\n",
    "X = n_x[1] #number of students\n",
    "list1 = []\n",
    "for subject in range(X):\n",
    "    list2 = list(map(float, input().split()))\n",
    "    list1.append(list2)\n",
    "zipped = list(zip(*list1))\n",
    "for i in zipped:\n",
    "    print(sum(i)/len(i))"
   ]
  },
  {
   "cell_type": "markdown",
   "metadata": {},
   "source": [
    "### 2-Athlete sort"
   ]
  },
  {
   "cell_type": "code",
   "execution_count": null,
   "metadata": {},
   "outputs": [],
   "source": [
    "import math\n",
    "import os\n",
    "import random\n",
    "import re\n",
    "import sys\n",
    "\n",
    "if __name__ == '__main__':\n",
    "    nm = input().split()\n",
    "\n",
    "    n = int(nm[0])\n",
    "\n",
    "    m = int(nm[1])\n",
    "\n",
    "    arr = []\n",
    "\n",
    "    for _ in range(n):\n",
    "        arr.append(list(map(int, input().rstrip().split())))\n",
    "\n",
    "    k = int(input())\n",
    "\n",
    "sorted_list = sorted(arr, key= lambda x: x[k])\n",
    "for i in sorted_list:\n",
    "    print(' '.join(map(str,i)))"
   ]
  },
  {
   "cell_type": "markdown",
   "metadata": {},
   "source": [
    "### 3-GinortS"
   ]
  },
  {
   "cell_type": "code",
   "execution_count": null,
   "metadata": {},
   "outputs": [],
   "source": [
    "s = input()\n",
    "s1 = ''.join(sorted(s))\n",
    "oddigit =[]\n",
    "evdigit = []\n",
    "upcase = []\n",
    "lowcase =[]\n",
    "for i in s1:\n",
    "    if i.isdigit():\n",
    "        if int(i)%2==0:\n",
    "            evdigit.append(i)\n",
    "        else:\n",
    "            oddigit.append(i)\n",
    "    elif i.isupper():\n",
    "        upcase.append(i)\n",
    "    else:\n",
    "        lowcase.append(i)\n",
    "s2 = lowcase+upcase+oddigit+evdigit\n",
    "print(''.join(s2)) "
   ]
  },
  {
   "cell_type": "markdown",
   "metadata": {},
   "source": [
    "## PYTHON FUNCTIONALS  "
   ]
  },
  {
   "cell_type": "markdown",
   "metadata": {},
   "source": [
    "### 1-Map and lambda expresion"
   ]
  },
  {
   "cell_type": "code",
   "execution_count": null,
   "metadata": {},
   "outputs": [],
   "source": [
    "cube = lambda x: x**3# complete the lambda function \n",
    "\n",
    "def fib(n):\n",
    "    if n == 0:\n",
    "        return 0\n",
    "    if n == 1:\n",
    "        return 1\n",
    "    else:\n",
    "        return fib(n-1) + fib(n-2)\n",
    "\n",
    "def fibonacci(n):\n",
    "    # return a list of fibonacci numbers\n",
    "    list1 =[]\n",
    "    for i in range(n):\n",
    "        list1.append(fib(i))\n",
    "    return list1"
   ]
  },
  {
   "cell_type": "markdown",
   "metadata": {},
   "source": [
    "## REGEX AND PARSING CHALLENGES"
   ]
  },
  {
   "cell_type": "markdown",
   "metadata": {},
   "source": [
    "### 1-Detect Floating Point Number"
   ]
  },
  {
   "cell_type": "code",
   "execution_count": null,
   "metadata": {},
   "outputs": [],
   "source": [
    "import re\n",
    "\n",
    "for i in range(int(input())):\n",
    "    string = input()\n",
    "    pattern = '^[+-]{0,1}[\\d]{0,}\\.\\d+$'\n",
    "    if re.match(pattern,string):\n",
    "        print(True)\n",
    "    else:\n",
    "        print(False)"
   ]
  },
  {
   "cell_type": "markdown",
   "metadata": {},
   "source": [
    "### 2-Re.split()"
   ]
  },
  {
   "cell_type": "code",
   "execution_count": null,
   "metadata": {},
   "outputs": [],
   "source": [
    "regex_pattern = r\"[.,]\"\t# Do not delete 'r'.\n",
    "\n",
    "import re\n",
    "print(\"\\n\".join(re.split(regex_pattern, input())))"
   ]
  },
  {
   "cell_type": "markdown",
   "metadata": {},
   "source": [
    "### 3-Group(),Groups() & Groupdict()"
   ]
  },
  {
   "cell_type": "code",
   "execution_count": null,
   "metadata": {},
   "outputs": [],
   "source": [
    "import re \n",
    "groups = re.findall(r\"([A-Za-z0-9])\\1+\",\n",
    "input()) \n",
    "if groups: \n",
    "    print(groups[0]) \n",
    "else: \n",
    "    print(-1)"
   ]
  },
  {
   "cell_type": "markdown",
   "metadata": {},
   "source": [
    "### 4-Re.findall() & Re.findinter()"
   ]
  },
  {
   "cell_type": "code",
   "execution_count": null,
   "metadata": {},
   "outputs": [],
   "source": [
    "import re\n",
    "pattern = r\"(?<=[^aeiou])([aeiou]{2,})(?=[^aeiou])\"\n",
    "a = re.findall(pattern, input(),flags=re.IGNORECASE)\n",
    "if a:\n",
    "    for i in a: \n",
    "        print(i)\n",
    "else:\n",
    "    print(-1)"
   ]
  },
  {
   "cell_type": "markdown",
   "metadata": {},
   "source": [
    "### 5-Re.start() & Re.end()"
   ]
  },
  {
   "cell_type": "code",
   "execution_count": null,
   "metadata": {},
   "outputs": [],
   "source": [
    "import re\n",
    "s, k = input(), input()\n",
    "if k not in s:\n",
    "    print(\"(-1, -1)\") \n",
    "else:\n",
    "    for i in range(len(s)-len(k)+1): \n",
    "        string = \"\" \n",
    "        for j in range(len(k)):\n",
    "            string += s[i+j]\n",
    "        if string == k: \n",
    "            print(f\"({i}, {i+len(k)-1})\")"
   ]
  },
  {
   "cell_type": "markdown",
   "metadata": {},
   "source": [
    "### 6-Regex Substitution"
   ]
  },
  {
   "cell_type": "code",
   "execution_count": null,
   "metadata": {},
   "outputs": [],
   "source": [
    "import re\n",
    "for i in range(int(input())):\n",
    "    s = input()\n",
    "    string = re.sub(\"(?<=\\s)&&(?=\\s)\", \"and\", s)\n",
    "    print(re.sub(\"(?<=\\s)\\|\\|(?=\\s)\", \"or\", string))"
   ]
  },
  {
   "cell_type": "markdown",
   "metadata": {},
   "source": [
    "### 7-Validating Roman numbers"
   ]
  },
  {
   "cell_type": "code",
   "execution_count": null,
   "metadata": {},
   "outputs": [],
   "source": [
    "regex_pattern = r\"(M{0,3})(C[DM]|D?C{0,3})(X[LC]|L?X{0,3})(I[VX]|V?I{0,3})$\""
   ]
  },
  {
   "cell_type": "markdown",
   "metadata": {},
   "source": [
    "### 8-Validating phone numbers"
   ]
  },
  {
   "cell_type": "code",
   "execution_count": null,
   "metadata": {},
   "outputs": [],
   "source": [
    "for i in range(int(input())):\n",
    "    s = input()\n",
    "    if s[0]=='7' or s[0]=='8' or s[0]=='9':\n",
    "        if len(s)==10:\n",
    "            if s.isdigit():\n",
    "                print('YES')\n",
    "            else:\n",
    "                print('NO')\n",
    "        else:\n",
    "            print('NO')    \n",
    "    else:\n",
    "        print('NO')"
   ]
  },
  {
   "cell_type": "markdown",
   "metadata": {},
   "source": [
    "### 9-Validating and parsing email adress"
   ]
  },
  {
   "cell_type": "code",
   "execution_count": null,
   "metadata": {},
   "outputs": [],
   "source": [
    "import email.utils,re\n",
    "\n",
    "pattern = r\"^[A-Za-z].+[\\@]{1}([A-Za-z])+[\\.]{1}[a-z]{1,3}$\"\n",
    "\n",
    "for i in range(int(input())):\n",
    "    s = input()\n",
    "    if re.search(pattern, email.utils.parseaddr(s)[1]):\n",
    "        print(s)"
   ]
  },
  {
   "cell_type": "markdown",
   "metadata": {},
   "source": [
    "### 10-Hex Color Code"
   ]
  },
  {
   "cell_type": "code",
   "execution_count": null,
   "metadata": {},
   "outputs": [],
   "source": [
    "import re\n",
    "\n",
    "pattern = r'[^^](#[\\da-fA-F]{3}\\b|#[\\da-fA-F]{6}\\b)'\n",
    "for i in range(int(input())):\n",
    "    s = input()\n",
    "    match = re.findall(pattern, s)\n",
    "    if len(match):\n",
    "        for j in match:\n",
    "            print(j)"
   ]
  },
  {
   "cell_type": "markdown",
   "metadata": {},
   "source": [
    "### 11-Html Parser-part1"
   ]
  },
  {
   "cell_type": "code",
   "execution_count": null,
   "metadata": {},
   "outputs": [],
   "source": [
    "from html.parser import HTMLParser\n",
    "\n",
    "class MyHTMLParser(HTMLParser):\n",
    "    def handle_starttag(self, tag, attrs):\n",
    "        print(f\"Start : {tag}\")\n",
    "        for a,b in attrs:\n",
    "            print(f\"-> {a} > {b}\")\n",
    "\n",
    "\n",
    "    def handle_endtag(self, tag):\n",
    "        print(f\"End   : {tag}\")\n",
    "\n",
    "    def handle_startendtag(self, tag, attrs):\n",
    "        print(f\"Empty : {tag}\")\n",
    "        for a, b in attrs:\n",
    "            print(f\"-> {a} > {b}\")\n",
    "\n",
    "n = int(input())\n",
    "l = \"\"\n",
    "for i in range(n):\n",
    "    s = input()\n",
    "    l += s\n",
    "parser = MyHTMLParser()\n",
    "parser.feed(l)"
   ]
  },
  {
   "cell_type": "markdown",
   "metadata": {},
   "source": [
    "### 12-Html Parser-part2"
   ]
  },
  {
   "cell_type": "code",
   "execution_count": null,
   "metadata": {},
   "outputs": [],
   "source": [
    "from html.parser import HTMLParser\n",
    "\n",
    "class MyHTMLParser(HTMLParser):\n",
    "    def handle_comment(self,data):\n",
    "        if data.count(\"\\n\")>=1 and data!=\"\\n\":\n",
    "                print(\">>> Multi-line Comment\") \n",
    "                print(data)\n",
    "        if data.count(\"\\n\")==0:\n",
    "                print(\">>> Single-line Comment\")\n",
    "                print(data)\n",
    "        if data ==\"\\n\":\n",
    "                return 0\n",
    "\n",
    "    def handle_data(self,data):\n",
    "        if data !=\"\\n\":\n",
    "                print(\">>> Data\")\n",
    "                print(data)\n",
    "        if data ==\"\\n\":\n",
    "                return 0\n",
    "html = \"\"       \n",
    "for i in range(int(input())):\n",
    "    html += input().rstrip()\n",
    "    html += '\\n'\n",
    "    \n",
    "parser = MyHTMLParser()\n",
    "parser.feed(html)\n",
    "parser.close()"
   ]
  },
  {
   "cell_type": "markdown",
   "metadata": {},
   "source": [
    "### 13-Detect HTML Tags,Attributes and Attributes Values"
   ]
  },
  {
   "cell_type": "code",
   "execution_count": null,
   "metadata": {},
   "outputs": [],
   "source": [
    "from html.parser import HTMLParser\n",
    "class CustomHtmlParser(HTMLParser):\n",
    "    def handle_starttag(self, tag, attrs):\n",
    "        print(tag)\n",
    "        for ele in attrs:\n",
    "            print(\"->\", ele[0], \">\", ele[1])\n",
    "\n",
    "\n",
    "parser = CustomHtmlParser()\n",
    "for _ in range(int(input())):\n",
    "    parser.feed(input())"
   ]
  },
  {
   "cell_type": "markdown",
   "metadata": {},
   "source": [
    "### 14-Validating UID"
   ]
  },
  {
   "cell_type": "code",
   "execution_count": null,
   "metadata": {},
   "outputs": [],
   "source": [
    "T = int(input())\n",
    "for i in range(T):\n",
    "    uid = input()\n",
    "    if len(uid) == 10 and len(set(uid)) == 10 and len([i for i in uid if i.isnumeric()]) >= 3 and len([i for i in uid if i.isupper()]) >= 2:\n",
    "        print(\"Valid\")\n",
    "    else:\n",
    "        print(\"Invalid\")"
   ]
  },
  {
   "cell_type": "markdown",
   "metadata": {},
   "source": [
    "### 15-Validating Credit Card Numbers"
   ]
  },
  {
   "cell_type": "code",
   "execution_count": null,
   "metadata": {},
   "outputs": [],
   "source": [
    "import re\n",
    "\n",
    "n=int(input())\n",
    "for _ in range(n):\n",
    "    cc=input()\n",
    "    if (re.fullmatch(r\"^[456]\\d{3}(-?\\d{4}){3}$\", cc) and \\\n",
    "         not re.search(r\"([0-9])(-?\\1){3}\", cc)):\n",
    "        print(\"Valid\")\n",
    "    else:\n",
    "        print(\"Invalid\")"
   ]
  },
  {
   "cell_type": "markdown",
   "metadata": {},
   "source": [
    "### 16-Validating Postal Codes"
   ]
  },
  {
   "cell_type": "code",
   "execution_count": null,
   "metadata": {},
   "outputs": [],
   "source": [
    "regex_integer_in_range = r\"^[1-9]\\d{5}$\"\t# Do not delete 'r'.\n",
    "regex_alternating_repetitive_digit_pair = r\"(\\d)(?=\\d\\1)\"\t# Do not delete 'r'."
   ]
  },
  {
   "cell_type": "markdown",
   "metadata": {},
   "source": [
    "### 17-Matrix Script"
   ]
  },
  {
   "cell_type": "code",
   "execution_count": null,
   "metadata": {},
   "outputs": [],
   "source": [
    "import math\n",
    "import os\n",
    "import random\n",
    "import re\n",
    "import sys\n",
    "\n",
    "first_multiple_input = input().rstrip().split()\n",
    "\n",
    "n = int(first_multiple_input[0])\n",
    "\n",
    "m = int(first_multiple_input[1])\n",
    "\n",
    "matrix = []\n",
    "\n",
    "for _ in range(n):\n",
    "    matrix_item = input()\n",
    "    matrix.append(matrix_item)\n",
    "    \n",
    "pattern=r'(?<=\\w)[!@#$%& ]{1,}(?=\\s*\\w)'\n",
    "s = ''\n",
    "for col in range(0,m):\n",
    "    for row in range(0,n):\n",
    "         s += str(matrix[row][col])\n",
    "         \n",
    "print(re.sub(pattern,' ',s))\n"
   ]
  },
  {
   "cell_type": "markdown",
   "metadata": {},
   "source": [
    "## XML"
   ]
  },
  {
   "cell_type": "markdown",
   "metadata": {},
   "source": [
    "### 1-XML 1 -Find the Score"
   ]
  },
  {
   "cell_type": "code",
   "execution_count": null,
   "metadata": {},
   "outputs": [],
   "source": [
    "def get_attr_number(node):\n",
    "    # your code goes here\n",
    "    score = len(node.attrib)\n",
    "    for ele in node:\n",
    "        score += get_attr_number(ele)\n",
    "    return score"
   ]
  },
  {
   "cell_type": "markdown",
   "metadata": {},
   "source": [
    "### 2-XML 2 Find the maximum depth"
   ]
  },
  {
   "cell_type": "code",
   "execution_count": null,
   "metadata": {},
   "outputs": [],
   "source": [
    "maxdepth = 0\n",
    "def depth(elem, level):\n",
    "    global maxdepth\n",
    "    # your code goes here\n",
    "    pattern = \".//*\"\n",
    "    el = elem.findall(pattern)\n",
    "    while el:\n",
    "        maxdepth += 1\n",
    "        pattern = pattern + '/*'\n",
    "        el = elem.findall(pattern)\n",
    "    return "
   ]
  },
  {
   "cell_type": "markdown",
   "metadata": {},
   "source": [
    "## CLOSURES AND DECORATIONS"
   ]
  },
  {
   "cell_type": "markdown",
   "metadata": {},
   "source": [
    "### 1-Standardize Mobile Number Using Decorators"
   ]
  },
  {
   "cell_type": "code",
   "execution_count": null,
   "metadata": {},
   "outputs": [],
   "source": [
    "def wrapper(f):\n",
    "    def fun(l):\n",
    "        # complete the function\n",
    "        list1 = []\n",
    "        for i in l:\n",
    "            if len(i) == 13:\n",
    "                a = '+91',i[3:8], i[8:]\n",
    "                list1.append(a)\n",
    "            elif len(i) == 12:\n",
    "                a = '+91',i[2:7], i[7:]\n",
    "                list1.append(a)  \n",
    "            elif len(i) == 11:\n",
    "                a = '+91', i[1:6], i[6:]\n",
    "                list1.append(a)\n",
    "            else:\n",
    "                a = '+91', i[0:5], i[5:]\n",
    "                list1.append(a)\n",
    "        for x in sorted(list1):\n",
    "            print(' '.join(x))\n",
    "    return fun"
   ]
  },
  {
   "cell_type": "markdown",
   "metadata": {},
   "source": [
    "### 2-Decorators 2 -Name Directory"
   ]
  },
  {
   "cell_type": "code",
   "execution_count": null,
   "metadata": {},
   "outputs": [],
   "source": [
    "def person_lister(f):\n",
    "    def inner(people):\n",
    "        # complete the function\n",
    "        return map(f, sorted(people, key=lambda x: int(x[2])))  \n",
    "    return inner"
   ]
  },
  {
   "cell_type": "markdown",
   "metadata": {},
   "source": [
    "## NUMPY "
   ]
  },
  {
   "cell_type": "markdown",
   "metadata": {},
   "source": [
    "### 1-Arrays"
   ]
  },
  {
   "cell_type": "code",
   "execution_count": null,
   "metadata": {},
   "outputs": [],
   "source": [
    "def arrays(arr):\n",
    "    # complete this function\n",
    "    # use numpy.array\n",
    "    list1 =[]\n",
    "    for i in range(len(arr)-1,-1,-1):\n",
    "        list1.append(arr[i])\n",
    "    a = numpy.array(list1, float)\n",
    "    return a"
   ]
  },
  {
   "cell_type": "markdown",
   "metadata": {},
   "source": [
    "### 2-Shape and Reshape"
   ]
  },
  {
   "cell_type": "code",
   "execution_count": null,
   "metadata": {},
   "outputs": [],
   "source": [
    "import numpy as np\n",
    "\n",
    "line = list(map(int, input().split()))\n",
    "arr = np.array(line)\n",
    "print( np.reshape(arr,(3,3)))"
   ]
  },
  {
   "cell_type": "markdown",
   "metadata": {},
   "source": [
    "### 3-Transpose and Flatten"
   ]
  },
  {
   "cell_type": "code",
   "execution_count": null,
   "metadata": {},
   "outputs": [],
   "source": [
    "import numpy\n",
    "\n",
    "list1 = []\n",
    "nxm = list(map(int, input().split()))\n",
    "for i in range(nxm[0]):\n",
    "    list1.append(list(map(int, input().split())))\n",
    "arr = numpy.array(list1)\n",
    "print((numpy.transpose(arr)))\n",
    "print(arr.flatten())"
   ]
  },
  {
   "cell_type": "markdown",
   "metadata": {},
   "source": [
    "### 4-Concatenate"
   ]
  },
  {
   "cell_type": "code",
   "execution_count": null,
   "metadata": {},
   "outputs": [],
   "source": [
    "import numpy\n",
    "\n",
    "list1 = []\n",
    "n_m_p = list(map(int, input().split()))\n",
    "for i in range(n_m_p[0]+n_m_p[1]):\n",
    "    list1.append(list(map(int, input().split())))\n",
    "arr = numpy.array(list1)\n",
    "print(arr)"
   ]
  },
  {
   "cell_type": "markdown",
   "metadata": {},
   "source": [
    "### 5-Zeros and Ones"
   ]
  },
  {
   "cell_type": "code",
   "execution_count": null,
   "metadata": {},
   "outputs": [],
   "source": [
    "import numpy as np\n",
    "n = list(map(int, input().split()))\n",
    "zeros = np.zeros((n),dtype=int)\n",
    "ones = np.ones((n),dtype=int)\n",
    "print(zeros)\n",
    "print(ones)"
   ]
  },
  {
   "cell_type": "markdown",
   "metadata": {},
   "source": [
    "### 6-Eye and Identity"
   ]
  },
  {
   "cell_type": "code",
   "execution_count": null,
   "metadata": {},
   "outputs": [],
   "source": [
    "import numpy\n",
    "numpy.set_printoptions(legacy='1.13')\n",
    "n = list(map(int, input().split()))\n",
    "print(numpy.eye(n[0], n[1]))"
   ]
  },
  {
   "cell_type": "markdown",
   "metadata": {},
   "source": [
    "### 7-Array Mathematics"
   ]
  },
  {
   "cell_type": "code",
   "execution_count": null,
   "metadata": {},
   "outputs": [],
   "source": [
    "import numpy\n",
    "\n",
    "n = list(map(int, input().split()))\n",
    "list1 = []\n",
    "list2 = []\n",
    "for i in range(n[0]):\n",
    "    list1.append(input().split())\n",
    "A = numpy.array(list1, int)\n",
    "for i in range(n[0]):\n",
    "    list2.append(input().split())\n",
    "B = numpy.array(list2, int)\n",
    "print(A+B, A-B, A*B, A//B, A%B, A**B, sep='\\n')"
   ]
  },
  {
   "cell_type": "markdown",
   "metadata": {},
   "source": [
    "### 8-Floor,Ceil and Rint"
   ]
  },
  {
   "cell_type": "code",
   "execution_count": null,
   "metadata": {},
   "outputs": [],
   "source": [
    "import numpy as np\n",
    "np.set_printoptions(legacy='1.13')\n",
    "list1 = list(map(float, input().split()))\n",
    "arr = np.array(list1)\n",
    "print (np.floor(arr))\n",
    "print (np.ceil(arr))\n",
    "print (np.rint(arr))"
   ]
  },
  {
   "cell_type": "markdown",
   "metadata": {},
   "source": [
    "### 9-Sum and Prod"
   ]
  },
  {
   "cell_type": "code",
   "execution_count": null,
   "metadata": {},
   "outputs": [],
   "source": [
    "import numpy as np\n",
    "\n",
    "n_m = list(map(int, input().split()))\n",
    "list1 = []\n",
    "for i in range(n_m[0]): \n",
    "    A = list(map(int, input().split()))\n",
    "    list1.append(A)\n",
    "sum1 =np.sum(list1, axis=0)\n",
    "print(np.prod(sum1))"
   ]
  },
  {
   "cell_type": "markdown",
   "metadata": {},
   "source": [
    "### 10-Min and Max"
   ]
  },
  {
   "cell_type": "code",
   "execution_count": null,
   "metadata": {},
   "outputs": [],
   "source": [
    "import numpy\n",
    "\n",
    "n_m = list(map(int,input().split()))\n",
    "list1 = []\n",
    "for i in range(n_m[0]):\n",
    "    list1.append(list(map(int, input().split())))\n",
    "arr = numpy.array(list1)\n",
    "print(numpy.max(numpy.min(arr, axis = 1)))\n"
   ]
  },
  {
   "cell_type": "markdown",
   "metadata": {},
   "source": [
    "### 11-Mean,Var, and Std"
   ]
  },
  {
   "cell_type": "code",
   "execution_count": null,
   "metadata": {},
   "outputs": [],
   "source": [
    "import numpy\n",
    "\n",
    "n_m = list(map(int, input().split()))\n",
    "list1=[]\n",
    "for i in range(n_m[0]):\n",
    "    list1.append(list(map(int,input().split())))\n",
    "my_array = numpy.array(list1)\n",
    "print(numpy.mean(my_array, axis = 1) )\n",
    "print(numpy.var(my_array, axis = 0))\n",
    "print(round(numpy.std(my_array),11))"
   ]
  },
  {
   "cell_type": "markdown",
   "metadata": {},
   "source": [
    "### 12- Dot and Cross"
   ]
  },
  {
   "cell_type": "code",
   "execution_count": null,
   "metadata": {},
   "outputs": [],
   "source": [
    "import numpy as np\n",
    "A=[]\n",
    "B=[]\n",
    "N = int(input())\n",
    "for i in range(N):\n",
    "    A.append(np.array(list(map(int, input().split()))))\n",
    "\n",
    "for i in range(N):\n",
    "    B.append(np.array(list(map(int, input().split()))))\n",
    "\n",
    "print(np.dot(A, B))"
   ]
  },
  {
   "cell_type": "markdown",
   "metadata": {},
   "source": [
    "### 13-Inner and Outer"
   ]
  },
  {
   "cell_type": "code",
   "execution_count": null,
   "metadata": {},
   "outputs": [],
   "source": [
    "import numpy as np\n",
    "\n",
    "A = np.array(list(map(int,input().split())))\n",
    "B = np.array(list(map(int,input().split())))\n",
    "print(np.inner(A,B))\n",
    "print(np.outer(A,B))"
   ]
  },
  {
   "cell_type": "markdown",
   "metadata": {},
   "source": [
    "### 14-Polynimials"
   ]
  },
  {
   "cell_type": "code",
   "execution_count": null,
   "metadata": {},
   "outputs": [],
   "source": [
    "import numpy as np\n",
    "\n",
    "coef = list(map(float, input().split()))\n",
    "x = float(input())\n",
    "print(float(np.polyval(coef, x)))"
   ]
  },
  {
   "cell_type": "markdown",
   "metadata": {},
   "source": [
    "### 15-Linear Algebra"
   ]
  },
  {
   "cell_type": "code",
   "execution_count": null,
   "metadata": {},
   "outputs": [],
   "source": [
    "import numpy\n",
    "n = int(input())\n",
    "my_array = numpy.array([list(map(float,input().split())) for i in range(n)])\n",
    "print(round(numpy.linalg.det(my_array),2))"
   ]
  },
  {
   "cell_type": "markdown",
   "metadata": {
    "tags": []
   },
   "source": [
    "# **PROBLEM 2**"
   ]
  },
  {
   "cell_type": "markdown",
   "metadata": {
    "tags": []
   },
   "source": [
    "## Birthday Cake Candles"
   ]
  },
  {
   "cell_type": "code",
   "execution_count": null,
   "metadata": {},
   "outputs": [],
   "source": [
    "import math\n",
    "import os\n",
    "import random\n",
    "import re\n",
    "import sys\n",
    "\n",
    "#\n",
    "# Complete the 'birthdayCakeCandles' function below.\n",
    "#\n",
    "# The function is expected to return an INTEGER.\n",
    "# The function accepts INTEGER_ARRAY candles as parameter.\n",
    "#\n",
    "\n",
    "def birthdayCakeCandles(candles):\n",
    "    # Write your code here\n",
    "    maximum = max(candles)\n",
    "    count = 0\n",
    "    for i in candles:\n",
    "        if i == maximum:\n",
    "            count += 1\n",
    "    return count\n",
    "\n",
    "if __name__ == '__main__':\n",
    "    fptr = open(os.environ['OUTPUT_PATH'], 'w')\n",
    "\n",
    "    candles_count = int(input().strip())\n",
    "\n",
    "    candles = list(map(int, input().rstrip().split()))\n",
    "\n",
    "    result = birthdayCakeCandles(candles)\n",
    "\n",
    "    fptr.write(str(result) + '\\n')\n",
    "\n",
    "    fptr.close()"
   ]
  },
  {
   "cell_type": "markdown",
   "metadata": {},
   "source": [
    "## Kangaroo"
   ]
  },
  {
   "cell_type": "code",
   "execution_count": null,
   "metadata": {},
   "outputs": [],
   "source": [
    "import math\n",
    "import os\n",
    "import random\n",
    "import re\n",
    "import sys\n",
    "\n",
    "#\n",
    "# Complete the 'kangaroo' function below.\n",
    "#\n",
    "# The function is expected to return a STRING.\n",
    "# The function accepts following parameters:\n",
    "#  1. INTEGER x1\n",
    "#  2. INTEGER v1\n",
    "#  3. INTEGER x2\n",
    "#  4. INTEGER v2\n",
    "#\n",
    "\n",
    "def kangaroo(x1, v1, x2, v2):\n",
    "    # Write your code here\n",
    "    answer = ''\n",
    "    if abs(x1-x2) <= abs(x1 - x2 +v1 -v2):\n",
    "        answer = 'NO'\n",
    "    elif x1 > x2 and (x1-x2)%(v1-v2) != 0 :\n",
    "        answer = 'NO'\n",
    "    elif x1 < x2 and (x2-x1)%(v2-v1) != 0:\n",
    "        answer = 'NO'\n",
    "    else:\n",
    "        answer = 'YES'\n",
    "    return answer\n",
    "        \n",
    "        \n",
    "        \n",
    "\n",
    "\n",
    "if __name__ == '__main__':\n",
    "    fptr = open(os.environ['OUTPUT_PATH'], 'w')\n",
    "\n",
    "    first_multiple_input = input().rstrip().split()\n",
    "\n",
    "    x1 = int(first_multiple_input[0])\n",
    "\n",
    "    v1 = int(first_multiple_input[1])\n",
    "\n",
    "    x2 = int(first_multiple_input[2])\n",
    "\n",
    "    v2 = int(first_multiple_input[3])\n",
    "\n",
    "    result = kangaroo(x1, v1, x2, v2)\n",
    "\n",
    "    fptr.write(result + '\\n')\n",
    "\n",
    "    fptr.close()"
   ]
  },
  {
   "cell_type": "markdown",
   "metadata": {},
   "source": [
    "## Strange Advertising"
   ]
  },
  {
   "cell_type": "code",
   "execution_count": null,
   "metadata": {},
   "outputs": [],
   "source": [
    "#!/bin/python3\n",
    "\n",
    "import math\n",
    "import os\n",
    "import random\n",
    "import re\n",
    "import sys\n",
    "\n",
    "#\n",
    "# Complete the 'viralAdvertising' function below.\n",
    "#\n",
    "# The function is expected to return an INTEGER.\n",
    "# The function accepts INTEGER n as parameter.\n",
    "#\n",
    "\n",
    "def viralAdvertising(n):\n",
    "    # Write your code here\n",
    "    \n",
    "    for i in range(1,n+1):\n",
    "        if i == 1:\n",
    "            shared = 5\n",
    "            liked = 2\n",
    "            cum = 2\n",
    "        else:\n",
    "            shared = math.floor(shared/2) * 3\n",
    "            liked = math.floor(shared/2)\n",
    "            cum +=liked\n",
    "    return (cum)\n",
    "        \n",
    "    \n",
    "\n",
    "if __name__ == '__main__':\n",
    "    fptr = open(os.environ['OUTPUT_PATH'], 'w')\n",
    "\n",
    "    n = int(input().strip())\n",
    "\n",
    "    result = viralAdvertising(n)\n",
    "\n",
    "    fptr.write(str(result) + '\\n')\n",
    "\n",
    "    fptr.close()"
   ]
  },
  {
   "cell_type": "markdown",
   "metadata": {},
   "source": [
    "## Recursive Digit Sum"
   ]
  },
  {
   "cell_type": "code",
   "execution_count": null,
   "metadata": {},
   "outputs": [],
   "source": [
    "import math\n",
    "import os\n",
    "import random\n",
    "import re\n",
    "import sys\n",
    "\n",
    "#\n",
    "# Complete the 'superDigit' function below.\n",
    "#\n",
    "# The function is expected to return an INTEGER.\n",
    "# The function accepts following parameters:\n",
    "#  1. STRING n\n",
    "#  2. INTEGER k\n",
    "#\n",
    "\n",
    "def superDigit(n, k):\n",
    "    # Write your code here\n",
    "    if len(n) == 1 and k==1:\n",
    "        return int(n)\n",
    "    else:\n",
    "        num = sum(list(map(int,n)))\n",
    "        return superDigit(str(num*k), 1)\n",
    "\n",
    "if __name__ == '__main__':\n",
    "    fptr = open(os.environ['OUTPUT_PATH'], 'w')\n",
    "\n",
    "    first_multiple_input = input().rstrip().split()\n",
    "\n",
    "    n = first_multiple_input[0]\n",
    "\n",
    "    k = int(first_multiple_input[1])\n",
    "\n",
    "    result = superDigit(n, k)\n",
    "\n",
    "    fptr.write(str(result) + '\\n')\n",
    "\n",
    "    fptr.close()"
   ]
  },
  {
   "cell_type": "markdown",
   "metadata": {},
   "source": [
    "## Inrsetion Sort1"
   ]
  },
  {
   "cell_type": "code",
   "execution_count": null,
   "metadata": {},
   "outputs": [],
   "source": [
    "\n",
    "import math\n",
    "import os\n",
    "import random\n",
    "import re\n",
    "import sys\n",
    "\n",
    "#\n",
    "# Complete the 'insertionSort1' function below.\n",
    "#\n",
    "# The function accepts following parameters:\n",
    "#  1. INTEGER n\n",
    "#  2. INTEGER_ARRAY arr\n",
    "#\n",
    "\n",
    "def insertionSort1(n, arr):\n",
    "    # Write your code here\n",
    "    copy = arr\n",
    "    for i in range(len(arr)-1,0,-1):\n",
    "        if arr[i] < arr[i-1]:\n",
    "            print(arr[i], arr[i-1])\n",
    "            copy[i] = arr[i-1]\n",
    "            copy[i-1] = arr[i]    \n",
    "            print(arr, copy)  \n",
    "    print (' '.join(map(str,copy)))\n",
    "    return \n",
    "\n",
    "        \n",
    "\n",
    "if __name__ == '__main__':\n",
    "    n = int(input().strip())\n",
    "\n",
    "    arr = list(map(int, input().rstrip().split()))\n",
    "\n",
    "    insertionSort1(n, arr)"
   ]
  },
  {
   "cell_type": "markdown",
   "metadata": {},
   "source": [
    "## Insertion Sort2"
   ]
  },
  {
   "cell_type": "code",
   "execution_count": null,
   "metadata": {},
   "outputs": [],
   "source": [
    "import math\n",
    "import os\n",
    "import random\n",
    "import re\n",
    "import sys\n",
    "\n",
    "#\n",
    "# Complete the 'insertionSort2' function below.\n",
    "#\n",
    "# The function accepts following parameters:\n",
    "#  1. INTEGER n\n",
    "#  2. INTEGER_ARRAY arr\n",
    "#\n",
    "\n",
    "def insertionSort2(n, arr):\n",
    "    # Write your code here\n",
    "    for i in range(1,len(arr)):\n",
    "        temp=arr[i]\n",
    "        j=i-1\n",
    "        while j>=0 and temp<arr[j]:\n",
    "            arr[j+1]=arr[j]\n",
    "            j -=1\n",
    "        arr[j+1]=temp \n",
    "        print(' '.join(map(str,arr)))\n",
    "            \n",
    "\n",
    "if __name__ == '__main__':\n",
    "    n = int(input().strip())\n",
    "\n",
    "    arr = list(map(int, input().rstrip().split()))\n",
    "\n",
    "    insertionSort2(n, arr)"
   ]
  }
 ],
 "metadata": {
  "kernelspec": {
   "display_name": "Python 3 (ipykernel)",
   "language": "python",
   "name": "python3"
  },
  "language_info": {
   "codemirror_mode": {
    "name": "ipython",
    "version": 3
   },
   "file_extension": ".py",
   "mimetype": "text/x-python",
   "name": "python",
   "nbconvert_exporter": "python",
   "pygments_lexer": "ipython3",
   "version": "3.9.6"
  }
 },
 "nbformat": 4,
 "nbformat_minor": 4
}
